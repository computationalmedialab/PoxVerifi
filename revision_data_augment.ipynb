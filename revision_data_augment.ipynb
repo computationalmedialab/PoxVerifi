{
 "cells": [
  {
   "cell_type": "code",
   "execution_count": 1,
   "metadata": {},
   "outputs": [],
   "source": [
    "import pandas as pd\n",
    "import numpy as np\n",
    "from openai import OpenAI\n",
    "\n",
    "data = pd.read_csv('../Datasets/all-claims.csv')"
   ]
  },
  {
   "cell_type": "code",
   "execution_count": 2,
   "metadata": {},
   "outputs": [],
   "source": [
    "OPENAI_API_KEY = ##\n",
    "client = OpenAI(api_key=OPENAI_API_KEY)\n",
    "\n",
    "def chat(system_msg, user_msg, model=\"gpt-4o\"):\n",
    "  system_msg = [{\"role\": \"system\", \"content\": system_msg}]\n",
    "  user_assistant_msgs = [{\"role\": \"assistant\", \"content\": user_msg} ]\n",
    "  msgs = system_msg + user_assistant_msgs\n",
    "  response = client.chat.completions.create(model=model,messages=msgs)\n",
    "  return response.choices[0].message.content"
   ]
  },
  {
   "cell_type": "code",
   "execution_count": 19,
   "metadata": {},
   "outputs": [],
   "source": [
    "def create_augmented_headlines(claim):\n",
    "    res = chat(\"Create exactly 10 realistic news headlines that contain the following claim. Return just the headlines, separated by semicolons; do not number them.\", claim).split(\";\")\n",
    "    if len(res) < 10:\n",
    "        print(\"Error: \", res)\n",
    "        return None\n",
    "    return res"
   ]
  },
  {
   "cell_type": "code",
   "execution_count": null,
   "metadata": {},
   "outputs": [],
   "source": [
    "augmented_data = pd.DataFrame(columns=[\"text\", \"headline\", \"rating\"])\n",
    "for i, row in data.iterrows():\n",
    "    text = row[\"text\"]\n",
    "    headlines = create_augmented_headlines(text)\n",
    "    if headlines is None:\n",
    "        print(\"Error: \", text)\n",
    "        continue\n",
    "    new_df = pd.DataFrame({\"text\": [text]*len(headlines), \"headline\": headlines, \"rating\": [row[\"rating\"]]*len(headlines)})\n",
    "    augmented_data = pd.concat([augmented_data, new_df], ignore_index=True)\n",
    "augmented_data"
   ]
  },
  {
   "cell_type": "code",
   "execution_count": 25,
   "metadata": {},
   "outputs": [],
   "source": [
    "augmented_data.to_csv(\"augmented_headliens.csv\", index=False)"
   ]
  }
 ],
 "metadata": {
  "kernelspec": {
   "display_name": "Python 3",
   "language": "python",
   "name": "python3"
  },
  "language_info": {
   "codemirror_mode": {
    "name": "ipython",
    "version": 3
   },
   "file_extension": ".py",
   "mimetype": "text/x-python",
   "name": "python",
   "nbconvert_exporter": "python",
   "pygments_lexer": "ipython3",
   "version": "3.9.6"
  }
 },
 "nbformat": 4,
 "nbformat_minor": 2
}
