{
 "cells": [
  {
   "cell_type": "code",
   "execution_count": 5,
   "id": "e886315a",
   "metadata": {
    "scrolled": true
   },
   "outputs": [
    {
     "name": "stdout",
     "output_type": "stream",
     "text": [
      "Data written to scraped_data.csv\n"
     ]
    }
   ],
   "source": [
    "import requests\n",
    "from bs4 import BeautifulSoup\n",
    "import pandas as pd\n",
    "\n",
    "def scrape(urls, output_file):\n",
    "    all_data = []\n",
    "\n",
    "    for url in urls:\n",
    "        response = requests.get(url)\n",
    "        response.raise_for_status()\n",
    "\n",
    "        soup = BeautifulSoup(response.text, 'html.parser')\n",
    "\n",
    "        headings = soup.find_all('h2')\n",
    "        data = []\n",
    "        for heading in headings:\n",
    "            content = []\n",
    "            element = heading.find_next_sibling()\n",
    "\n",
    "            while element is not None and not (element.name and element.name.startswith('h')):\n",
    "                text = element.get_text(strip=True)\n",
    "                if text:\n",
    "                    content.append(text)\n",
    "                element = element.find_next_sibling()\n",
    "\n",
    "            data.append({\n",
    "                'URL': url,\n",
    "                'Heading': heading.get_text(strip=True),\n",
    "                'Content': ' '.join(content)\n",
    "            })\n",
    "        \n",
    "        all_data.extend(data)\n",
    "\n",
    "    df = pd.DataFrame(all_data)\n",
    "    df.to_csv(output_file, index=False)\n",
    "    print(f'Data written to {output_file}')\n",
    "\n",
    "urls = [\n",
    "    'https://www.cdc.gov/poxvirus/mpox/if-sick/transmission.html',\n",
    "    'https://www.cdc.gov/poxvirus/mpox/prevention/sexual-health.html',\n",
    "    'https://www.cdc.gov/poxvirus/mpox/symptoms/index.html',\n",
    "    'https://www.cdc.gov/poxvirus/mpox/vaccines/index.html',\n",
    "    'https://www.who.int/news-room/fact-sheets/detail/monkeypox'\n",
    "]\n",
    "\n",
    "output_file = 'scraped_data.csv'\n",
    "scrape(urls, output_file)"
   ]
  },
  {
   "cell_type": "code",
   "execution_count": null,
   "id": "d7a6740e",
   "metadata": {},
   "outputs": [],
   "source": []
  }
 ],
 "metadata": {
  "kernelspec": {
   "display_name": "Python 3 (ipykernel)",
   "language": "python",
   "name": "python3"
  },
  "language_info": {
   "codemirror_mode": {
    "name": "ipython",
    "version": 3
   },
   "file_extension": ".py",
   "mimetype": "text/x-python",
   "name": "python",
   "nbconvert_exporter": "python",
   "pygments_lexer": "ipython3",
   "version": "3.9.7"
  }
 },
 "nbformat": 4,
 "nbformat_minor": 5
}
