{
 "cells": [
  {
   "cell_type": "code",
   "execution_count": null,
   "metadata": {},
   "outputs": [],
   "source": [
    "import pandas as pd\n",
    "import numpy as np\n",
    "from openai import OpenAI\n",
    "from sentence_transformers import SentenceTransformer\n",
    "bert_model = SentenceTransformer('bert-base-nli-mean-tokens')\n",
    "\n",
    "data = pd.read_csv('../Datasets/all-claims.csv')\n",
    "headlineData = pd.read_csv('augmented_headliens.csv')\n",
    "data['headline'] = data['text']\n",
    "mergedData = pd.concat([data, headlineData])"
   ]
  },
  {
   "cell_type": "code",
   "execution_count": 26,
   "metadata": {},
   "outputs": [],
   "source": [
    "from sklearn.model_selection import GroupKFold\n",
    "from sklearn.linear_model import LogisticRegression\n",
    "from sklearn.metrics import accuracy_score\n",
    "\n",
    "def test(x_encode, df):\n",
    "    X = x_encode\n",
    "    y = df['rating']\n",
    "    cat = df['text']  # Assuming 'text' is the category you want to group by\n",
    "    y_acc = []\n",
    "    y_preds = []\n",
    "    \n",
    "    gkf = GroupKFold(n_splits=10)\n",
    "    \n",
    "    for train_index, test_index in gkf.split(X, y, groups=cat):\n",
    "        X_train, X_test = X[train_index], X[test_index]\n",
    "        y_train, y_test = y[train_index], y[test_index]\n",
    "        \n",
    "        clf = LogisticRegression(random_state=0, max_iter=1000).fit(X_train, y_train)\n",
    "        y_pred = clf.predict(X_test)\n",
    "        y_preds.extend(y_pred)\n",
    "        y_acc.extend(y_test)\n",
    "        \n",
    "    return y_acc, y_preds\n",
    "\n",
    "        \n",
    "       "
   ]
  },
  {
   "cell_type": "code",
   "execution_count": 19,
   "metadata": {},
   "outputs": [],
   "source": [
    "from sklearn.metrics import accuracy_score, f1_score, precision_score, recall_score, confusion_matrix\n",
    "def get_scores(y_acc, y_preds): \n",
    "    print('Accuracy: ', accuracy_score(y_acc, y_preds))\n",
    "    print('F1 Score: ', f1_score(y_acc, y_preds, average='weighted'))\n",
    "    print('Precision: ', precision_score(y_acc, y_preds, average='weighted'))\n",
    "    print('Recall: ', recall_score(y_acc, y_preds, average='weighted'))\n",
    "    print('Confusion Matrix: ', confusion_matrix(y_acc, y_preds))"
   ]
  },
  {
   "cell_type": "code",
   "execution_count": null,
   "metadata": {},
   "outputs": [],
   "source": [
    "y_acc, y_preds = test(bert_model.encode(mergedData['text']), data)\n",
    "get_scores(y_acc, y_preds)\n"
   ]
  },
  {
   "cell_type": "code",
   "execution_count": 56,
   "metadata": {},
   "outputs": [],
   "source": [
    "OPENAI_API_KEY = \"YOUR_API_KEY\"\n",
    "client = OpenAI(api_key=OPENAI_API_KEY)\n",
    "\n",
    "def chat(system_msg, user_msg, model=\"gpt-4o-mini\"):\n",
    "  system_msg = [{\"role\": \"system\", \"content\": system_msg}]\n",
    "  user_assistant_msgs = [{\"role\": \"assistant\", \"content\": user_msg} ]\n",
    "  msgs = system_msg + user_assistant_msgs\n",
    "  response = client.chat.completions.create(model=model,messages=msgs)\n",
    "  return response.choices[0].message.content"
   ]
  },
  {
   "cell_type": "code",
   "execution_count": null,
   "metadata": {},
   "outputs": [],
   "source": [
    "def get_embedding(text, model=\"text-embedding-3-small\"):\n",
    "   text = text.replace(\"\\n\", \" \")\n",
    "   return client.embeddings.create(input = [text], model=model).data[0].embedding"
   ]
  },
  {
   "cell_type": "code",
   "execution_count": null,
   "metadata": {},
   "outputs": [],
   "source": [
    "mergedData['openAI-large'] = mergedData['headline'].apply(lambda x: get_embedding(x, model='text-embedding-3-large'))\n",
    "mergedData['openAI-large-clean'] = mergedData['openAI-large'].apply(lambda x: np.array(x))\n",
    "mergedData['openAI-large-clean']\n",
    "embedding = np.array(mergedData['openAI-large-clean'])\n",
    "embedding = np.vstack(data)"
   ]
  },
  {
   "cell_type": "code",
   "execution_count": null,
   "metadata": {},
   "outputs": [],
   "source": [
    "y_acc, y_preds = test(embedding, mergedData)\n",
    "get_scores(y_acc, y_preds)"
   ]
  },
  {
   "cell_type": "code",
   "execution_count": 59,
   "metadata": {},
   "outputs": [],
   "source": [
    "def label_text(text):\n",
    "    system_msg = \"You are a fact-checker. For each of the following, return 1 if the claim is true, and 0 if the claim is false. Do not return anything else.\"\n",
    "    user_msg = text\n",
    "    return chat(system_msg, user_msg)"
   ]
  },
  {
   "cell_type": "code",
   "execution_count": 62,
   "metadata": {},
   "outputs": [],
   "source": [
    "pred_y = mergedData['headline'].apply(lambda x: label_text(x))\n",
    "pred_y = pred_y.apply(lambda x: 1 if x == '1' else 0)\n",
    "get_scores(mergedData['rating'], pred_y)"
   ]
  }
 ],
 "metadata": {
  "kernelspec": {
   "display_name": "base",
   "language": "python",
   "name": "python3"
  },
  "language_info": {
   "codemirror_mode": {
    "name": "ipython",
    "version": 3
   },
   "file_extension": ".py",
   "mimetype": "text/x-python",
   "name": "python",
   "nbconvert_exporter": "python",
   "pygments_lexer": "ipython3",
   "version": "3.9.6"
  }
 },
 "nbformat": 4,
 "nbformat_minor": 2
}
